{
 "cells": [
  {
   "cell_type": "markdown",
   "source": [
    "# Create an initial Experiment"
   ],
   "metadata": {
    "collapsed": false
   }
  },
  {
   "cell_type": "code",
   "execution_count": 1,
   "outputs": [],
   "source": [
    "from code import Simulator"
   ],
   "metadata": {
    "collapsed": false
   }
  },
  {
   "cell_type": "code",
   "execution_count": 2,
   "outputs": [],
   "source": [
    "Simulator(parameter1=1, parameter2=1).write_graph(run=True)"
   ],
   "metadata": {
    "collapsed": false
   }
  },
  {
   "cell_type": "markdown",
   "source": [
    "# Put experiments on the queue and run them in parallel"
   ],
   "metadata": {
    "collapsed": false
   }
  },
  {
   "cell_type": "code",
   "execution_count": 3,
   "outputs": [
    {
     "name": "stdout",
     "output_type": "stream",
     "text": [
      "Queueing with overrides '{'params.yaml': ['Simulator.parameter1=0', 'Simulator.parameter2=[1,2,3]']}'.\n",
      "Queued experiment '4dcdbfa' for future execution.\n",
      "Queueing with overrides '{'params.yaml': ['Simulator.parameter1=1', 'Simulator.parameter2=[1,2,3]']}'.\n",
      "Queued experiment '38168c4' for future execution.\n",
      "Queueing with overrides '{'params.yaml': ['Simulator.parameter1=2', 'Simulator.parameter2=[1,2,3]']}'.\n",
      "Queued experiment '217f81b' for future execution.\n",
      "Queueing with overrides '{'params.yaml': ['Simulator.parameter1=3', 'Simulator.parameter2=[1,2,3]']}'.\n",
      "Queued experiment '987a5aa' for future execution.\n"
     ]
    }
   ],
   "source": [
    "!dvc exp run -S \"Simulator.parameter1=range(4)\" -S \"Simulator.parameter2=1,2\" --queue"
   ],
   "metadata": {
    "collapsed": false
   }
  },
  {
   "cell_type": "code",
   "execution_count": 4,
   "outputs": [
    {
     "name": "stdout",
     "output_type": "stream",
     "text": [
      "Started '3' new experiments task queue workers.\n"
     ]
    }
   ],
   "source": [
    "!dvc queue start --jobs 3"
   ],
   "metadata": {
    "collapsed": false
   }
  },
  {
   "cell_type": "markdown",
   "source": [
    "# Analyse the results"
   ],
   "metadata": {
    "collapsed": false
   }
  },
  {
   "cell_type": "code",
   "execution_count": 23,
   "outputs": [],
   "source": [
    "!dvc exp show --csv >> experiments.csv"
   ],
   "metadata": {
    "collapsed": false
   }
  },
  {
   "cell_type": "code",
   "execution_count": 24,
   "outputs": [],
   "source": [
    "import pandas as pd"
   ],
   "metadata": {
    "collapsed": false
   }
  },
  {
   "cell_type": "code",
   "execution_count": 25,
   "outputs": [
    {
     "data": {
      "text/plain": "  Experiment        rev  ... Simulator.parameter1 Simulator.parameter2\n0        NaN  workspace  ...                    1                    1\n1     master    51a76c7  ...                    1                    1\n2  exp-bd009    a8d3d2e  ...                    3                    2\n3  exp-fe5b4    515d333  ...                    3                    1\n4  exp-e1b0c    24eeb48  ...                    2                    2\n5  exp-ea6ea    6890b3b  ...                    2                    1\n6  exp-e8fe2    a8767f4  ...                    1                    2\n7  exp-44136    b9aa489  ...                    1                    1\n8  exp-bbffb    fba34bf  ...                    0                    2\n9  exp-cefd7    78ab209  ...                    0                    1\n\n[10 rows x 8 columns]",
      "text/html": "<div>\n<style scoped>\n    .dataframe tbody tr th:only-of-type {\n        vertical-align: middle;\n    }\n\n    .dataframe tbody tr th {\n        vertical-align: top;\n    }\n\n    .dataframe thead th {\n        text-align: right;\n    }\n</style>\n<table border=\"1\" class=\"dataframe\">\n  <thead>\n    <tr style=\"text-align: right;\">\n      <th></th>\n      <th>Experiment</th>\n      <th>rev</th>\n      <th>typ</th>\n      <th>Created</th>\n      <th>parent</th>\n      <th>metric</th>\n      <th>Simulator.parameter1</th>\n      <th>Simulator.parameter2</th>\n    </tr>\n  </thead>\n  <tbody>\n    <tr>\n      <th>0</th>\n      <td>NaN</td>\n      <td>workspace</td>\n      <td>baseline</td>\n      <td>NaN</td>\n      <td>NaN</td>\n      <td>2</td>\n      <td>1</td>\n      <td>1</td>\n    </tr>\n    <tr>\n      <th>1</th>\n      <td>master</td>\n      <td>51a76c7</td>\n      <td>baseline</td>\n      <td>2022-11-08T16:15:49</td>\n      <td>NaN</td>\n      <td>2</td>\n      <td>1</td>\n      <td>1</td>\n    </tr>\n    <tr>\n      <th>2</th>\n      <td>exp-bd009</td>\n      <td>a8d3d2e</td>\n      <td>branch_commit</td>\n      <td>2022-11-08T16:22:33</td>\n      <td>NaN</td>\n      <td>5</td>\n      <td>3</td>\n      <td>2</td>\n    </tr>\n    <tr>\n      <th>3</th>\n      <td>exp-fe5b4</td>\n      <td>515d333</td>\n      <td>branch_commit</td>\n      <td>2022-11-08T16:22:27</td>\n      <td>NaN</td>\n      <td>4</td>\n      <td>3</td>\n      <td>1</td>\n    </tr>\n    <tr>\n      <th>4</th>\n      <td>exp-e1b0c</td>\n      <td>24eeb48</td>\n      <td>branch_commit</td>\n      <td>2022-11-08T16:22:21</td>\n      <td>NaN</td>\n      <td>4</td>\n      <td>2</td>\n      <td>2</td>\n    </tr>\n    <tr>\n      <th>5</th>\n      <td>exp-ea6ea</td>\n      <td>6890b3b</td>\n      <td>branch_commit</td>\n      <td>2022-11-08T16:22:17</td>\n      <td>NaN</td>\n      <td>3</td>\n      <td>2</td>\n      <td>1</td>\n    </tr>\n    <tr>\n      <th>6</th>\n      <td>exp-e8fe2</td>\n      <td>a8767f4</td>\n      <td>branch_commit</td>\n      <td>2022-11-08T16:22:11</td>\n      <td>NaN</td>\n      <td>3</td>\n      <td>1</td>\n      <td>2</td>\n    </tr>\n    <tr>\n      <th>7</th>\n      <td>exp-44136</td>\n      <td>b9aa489</td>\n      <td>branch_commit</td>\n      <td>2022-11-08T16:22:05</td>\n      <td>NaN</td>\n      <td>2</td>\n      <td>1</td>\n      <td>1</td>\n    </tr>\n    <tr>\n      <th>8</th>\n      <td>exp-bbffb</td>\n      <td>fba34bf</td>\n      <td>branch_commit</td>\n      <td>2022-11-08T16:22:01</td>\n      <td>NaN</td>\n      <td>2</td>\n      <td>0</td>\n      <td>2</td>\n    </tr>\n    <tr>\n      <th>9</th>\n      <td>exp-cefd7</td>\n      <td>78ab209</td>\n      <td>branch_base</td>\n      <td>2022-11-08T16:21:55</td>\n      <td>NaN</td>\n      <td>1</td>\n      <td>0</td>\n      <td>1</td>\n    </tr>\n  </tbody>\n</table>\n</div>"
     },
     "execution_count": 25,
     "metadata": {},
     "output_type": "execute_result"
    }
   ],
   "source": [
    "pd.read_csv(\"experiments.csv\")"
   ],
   "metadata": {
    "collapsed": false
   }
  },
  {
   "cell_type": "code",
   "execution_count": null,
   "outputs": [],
   "source": [],
   "metadata": {
    "collapsed": false
   }
  }
 ],
 "metadata": {
  "kernelspec": {
   "display_name": "Python 3",
   "language": "python",
   "name": "python3"
  },
  "language_info": {
   "codemirror_mode": {
    "name": "ipython",
    "version": 2
   },
   "file_extension": ".py",
   "mimetype": "text/x-python",
   "name": "python",
   "nbconvert_exporter": "python",
   "pygments_lexer": "ipython2",
   "version": "2.7.6"
  }
 },
 "nbformat": 4,
 "nbformat_minor": 0
}
